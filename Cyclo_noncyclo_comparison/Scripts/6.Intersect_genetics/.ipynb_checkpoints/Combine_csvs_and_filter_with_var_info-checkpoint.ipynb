{
 "cells": [
  {
   "cell_type": "code",
   "execution_count": null,
   "id": "8f446f5e-a661-432b-a2c1-595a710d3956",
   "metadata": {},
   "outputs": [],
   "source": [
    "# Combine all the gene csvs together, add a column to each row indicating which csv they came from. The column names for each csv is the same.\n",
    "# Add another column to this combined csv called \"Genetic_var_found\". The /mmfs1/gscratch/stergachislab/yhhc/projects/Iso-seq_public/Cyclo_noncyclo_comparison/Analysis/9.2.24/5.Test_statistics/VCFs/output_dir\n",
    "# directory contains files that are named like this: [Sample name].deepvariant_gene_list.txt. If the [Sample name] matches the Sample column value for\n",
    "# the combined csv, look into the txt file and see if the associated_gene is found in the txt file. If it is, then set \"Genetic_var_found\" to TRUE. \n",
    "# The script should just read each [Sample name].deepvariant_gene_list.txt file and then determine if any rows in the combined csv should be set to TRUE.\n",
    "\n",
    "# Then filter the combined csv so that only the rows with rank_top_95_percentile have values < 100 are shown. Futher filter so that only rows \n",
    "# where the Genetic_var_found column is True. \n",
    "\n",
    "import os\n",
    "import pandas as pd"
   ]
  },
  {
   "cell_type": "code",
   "execution_count": null,
   "id": "9f9133a6-d723-4933-82b3-940549e49ae2",
   "metadata": {
    "editable": true,
    "slideshow": {
     "slide_type": ""
    },
    "tags": [
     "parameters"
    ]
   },
   "outputs": [],
   "source": [
    "# Parameter tagged cell for papermill\n",
    "\n",
    "# Paths to CSV files\n",
    "# csv_files_gene = [\n",
    "#     'added_HPO_and_seqr_Hyp1_Gene.csv',\n",
    "#     'added_HPO_and_seqr_Hyp2LOE_Gene.csv',\n",
    "#     'added_HPO_and_seqr_Hyp2GOE_Gene.csv',\n",
    "#     'added_HPO_and_seqr_Hyp3GOE_Gene.csv',\n",
    "#     'added_HPO_and_seqr_Hyp5_Gene.csv'\n",
    "# ]\n",
    "\n",
    "# Paths to CSV files\n",
    "# csv_files_isoform = [\n",
    "#     'added_HPO_and_seqr_Hyp1_Isoform.csv',\n",
    "#     'added_HPO_and_seqr_Hyp2LOE_Isoform.csv',\n",
    "#     'added_HPO_and_seqr_Hyp2GOE_Isoform.csv',\n",
    "#     'added_HPO_and_seqr_Hyp3GOE_Isoform.csv'\n",
    "# ]\n",
    "\n",
    "# Path to the TSV file containing the sample and PSid mappings\n",
    "#tsv_file = '/mmfs1/gscratch/stergachislab/yhhc/projects/Iso-seq_public/Cyclo_noncyclo_comparison/Analysis/9.2.24/Inputs/Sample_names_and_bam_locations.tsv'\n",
    "\n",
    "# Directory containing the gene list text files\n",
    "#vcf_directory = '/mmfs1/gscratch/stergachislab/yhhc/projects/Iso-seq_public/Cyclo_noncyclo_comparison/Analysis/9.2.24/5.Test_statistics/VCFs/output_dir_var_info'\n",
    "\n",
    "\n",
    "# Parameters cell - Papermill will overwrite these values when the notebook is executed\n",
    "csv_files_gene = None\n",
    "csv_files_isoform = None\n",
    "tsv_file = None\n",
    "vcf_directory = None\n",
    "base_dir = None  # New parameter for the base directory of CSV files\n"
   ]
  },
  {
   "cell_type": "code",
   "execution_count": 1,
   "id": "fc45c9de-a147-451d-94b6-8d10c55dc475",
   "metadata": {},
   "outputs": [
    {
     "name": "stderr",
     "output_type": "stream",
     "text": [
      "/tmp/ipykernel_59449/3733632252.py:24: DtypeWarning: Columns (35,36,37,38,39,40,41) have mixed types. Specify dtype option on import or set low_memory=False.\n",
      "  [pd.read_csv(f).assign(source=os.path.basename(f)) for f in csv_files_gene],\n",
      "/tmp/ipykernel_59449/3733632252.py:24: DtypeWarning: Columns (35,36,37,38,39,40,41,52,53) have mixed types. Specify dtype option on import or set low_memory=False.\n",
      "  [pd.read_csv(f).assign(source=os.path.basename(f)) for f in csv_files_gene],\n",
      "/tmp/ipykernel_59449/3733632252.py:24: DtypeWarning: Columns (35,36,37,38,39,40,41) have mixed types. Specify dtype option on import or set low_memory=False.\n",
      "  [pd.read_csv(f).assign(source=os.path.basename(f)) for f in csv_files_gene],\n",
      "/tmp/ipykernel_59449/3733632252.py:24: DtypeWarning: Columns (35,36,37,38,39,40,41) have mixed types. Specify dtype option on import or set low_memory=False.\n",
      "  [pd.read_csv(f).assign(source=os.path.basename(f)) for f in csv_files_gene],\n",
      "/tmp/ipykernel_59449/3733632252.py:24: DtypeWarning: Columns (35,36,37,38,39,40,41) have mixed types. Specify dtype option on import or set low_memory=False.\n",
      "  [pd.read_csv(f).assign(source=os.path.basename(f)) for f in csv_files_gene],\n",
      "/tmp/ipykernel_59449/3733632252.py:42: DtypeWarning: Columns (32,33,34) have mixed types. Specify dtype option on import or set low_memory=False.\n",
      "  [pd.read_csv(f).assign(source=os.path.basename(f)) for f in csv_files_isoform],\n",
      "/tmp/ipykernel_59449/3733632252.py:42: DtypeWarning: Columns (32,33,34) have mixed types. Specify dtype option on import or set low_memory=False.\n",
      "  [pd.read_csv(f).assign(source=os.path.basename(f)) for f in csv_files_isoform],\n",
      "/tmp/ipykernel_59449/3733632252.py:42: DtypeWarning: Columns (32,33,34) have mixed types. Specify dtype option on import or set low_memory=False.\n",
      "  [pd.read_csv(f).assign(source=os.path.basename(f)) for f in csv_files_isoform],\n",
      "/tmp/ipykernel_59449/3733632252.py:42: DtypeWarning: Columns (32,33,34) have mixed types. Specify dtype option on import or set low_memory=False.\n",
      "  [pd.read_csv(f).assign(source=os.path.basename(f)) for f in csv_files_isoform],\n"
     ]
    }
   ],
   "source": [
    "import ast\n",
    "\n",
    "# Convert the string parameters back into lists\n",
    "csv_files_gene = ast.literal_eval(csv_files_gene)\n",
    "csv_files_isoform = ast.literal_eval(csv_files_isoform)\n",
    "\n",
    "# Load and combine all the CSVs, adding a source column to each\n",
    "# os.path.basename(f): Extracts the base name (i.e., just the filename without the directory path) to add a source column, so you can track which file each row came from.\n",
    "combined_df_gene = pd.concat(\n",
    "    [pd.read_csv(os.path.join(base_dir, f)).assign(source=os.path.basename(f)) for f in csv_files_gene],\n",
    "    ignore_index=True\n",
    ")\n",
    "\n",
    "# Add a new column for genetic variant flag\n",
    "combined_df_gene['Genetic_var_found'] = False\n",
    "\n",
    "# Load and combine all the CSVs, adding a source column to each\n",
    "combined_df_isoform = pd.concat(\n",
    "    [pd.read_csv(os.path.join(base_dir, f)).assign(source=os.path.basename(f)) for f in csv_files_isoform],\n",
    "    ignore_index=True\n",
    ")\n",
    "\n",
    "# Add a new column for genetic variant flag\n",
    "combined_df_isoform['Genetic_var_found'] = False\n",
    "\n"
   ]
  },
  {
   "cell_type": "code",
   "execution_count": 2,
   "id": "09e7afd8-366e-4d1b-b72a-7f36e1466444",
   "metadata": {},
   "outputs": [
    {
     "name": "stdout",
     "output_type": "stream",
     "text": [
      "File not found: /mmfs1/gscratch/stergachislab/yhhc/projects/Iso-seq_public/Cyclo_noncyclo_comparison/Analysis/9.2.24/5.Test_statistics/VCFs/output_dir_var_info/PS00389.deepvariant_gene_list.txt\n",
      "File not found: /mmfs1/gscratch/stergachislab/yhhc/projects/Iso-seq_public/Cyclo_noncyclo_comparison/Analysis/9.2.24/5.Test_statistics/VCFs/output_dir_var_info/PS00389.deepvariant_gene_list.txt\n",
      "File not found: /mmfs1/gscratch/stergachislab/yhhc/projects/Iso-seq_public/Cyclo_noncyclo_comparison/Analysis/9.2.24/5.Test_statistics/VCFs/output_dir_var_info/PS00392.deepvariant_gene_list.txt\n",
      "File not found: /mmfs1/gscratch/stergachislab/yhhc/projects/Iso-seq_public/Cyclo_noncyclo_comparison/Analysis/9.2.24/5.Test_statistics/VCFs/output_dir_var_info/PS00392.deepvariant_gene_list.txt\n",
      "File not found: /mmfs1/gscratch/stergachislab/yhhc/projects/Iso-seq_public/Cyclo_noncyclo_comparison/Analysis/9.2.24/5.Test_statistics/VCFs/output_dir_var_info/PS00395.deepvariant_gene_list.txt\n",
      "File not found: /mmfs1/gscratch/stergachislab/yhhc/projects/Iso-seq_public/Cyclo_noncyclo_comparison/Analysis/9.2.24/5.Test_statistics/VCFs/output_dir_var_info/PS00395.deepvariant_gene_list.txt\n",
      "File not found: /mmfs1/gscratch/stergachislab/yhhc/projects/Iso-seq_public/Cyclo_noncyclo_comparison/Analysis/9.2.24/5.Test_statistics/VCFs/output_dir_var_info/PS00401.deepvariant_gene_list.txt\n",
      "File not found: /mmfs1/gscratch/stergachislab/yhhc/projects/Iso-seq_public/Cyclo_noncyclo_comparison/Analysis/9.2.24/5.Test_statistics/VCFs/output_dir_var_info/PS00401.deepvariant_gene_list.txt\n",
      "File not found: /mmfs1/gscratch/stergachislab/yhhc/projects/Iso-seq_public/Cyclo_noncyclo_comparison/Analysis/9.2.24/5.Test_statistics/VCFs/output_dir_var_info/PS00404.deepvariant_gene_list.txt\n",
      "File not found: /mmfs1/gscratch/stergachislab/yhhc/projects/Iso-seq_public/Cyclo_noncyclo_comparison/Analysis/9.2.24/5.Test_statistics/VCFs/output_dir_var_info/PS00404.deepvariant_gene_list.txt\n",
      "File not found: /mmfs1/gscratch/stergachislab/yhhc/projects/Iso-seq_public/Cyclo_noncyclo_comparison/Analysis/9.2.24/5.Test_statistics/VCFs/output_dir_var_info/PS00422.deepvariant_gene_list.txt\n",
      "File not found: /mmfs1/gscratch/stergachislab/yhhc/projects/Iso-seq_public/Cyclo_noncyclo_comparison/Analysis/9.2.24/5.Test_statistics/VCFs/output_dir_var_info/PS00422.deepvariant_gene_list.txt\n",
      "File not found: /mmfs1/gscratch/stergachislab/yhhc/projects/Iso-seq_public/Cyclo_noncyclo_comparison/Analysis/9.2.24/5.Test_statistics/VCFs/output_dir_var_info/PS00425.deepvariant_gene_list.txt\n",
      "File not found: /mmfs1/gscratch/stergachislab/yhhc/projects/Iso-seq_public/Cyclo_noncyclo_comparison/Analysis/9.2.24/5.Test_statistics/VCFs/output_dir_var_info/PS00425.deepvariant_gene_list.txt\n",
      "File not found: /mmfs1/gscratch/stergachislab/yhhc/projects/Iso-seq_public/Cyclo_noncyclo_comparison/Analysis/9.2.24/5.Test_statistics/VCFs/output_dir_var_info/PS00428.deepvariant_gene_list.txt\n",
      "File not found: /mmfs1/gscratch/stergachislab/yhhc/projects/Iso-seq_public/Cyclo_noncyclo_comparison/Analysis/9.2.24/5.Test_statistics/VCFs/output_dir_var_info/PS00428.deepvariant_gene_list.txt\n",
      "File not found: /mmfs1/gscratch/stergachislab/yhhc/projects/Iso-seq_public/Cyclo_noncyclo_comparison/Analysis/9.2.24/5.Test_statistics/VCFs/output_dir_var_info/PS00398.deepvariant_gene_list.txt\n",
      "File not found: /mmfs1/gscratch/stergachislab/yhhc/projects/Iso-seq_public/Cyclo_noncyclo_comparison/Analysis/9.2.24/5.Test_statistics/VCFs/output_dir_var_info/PS00398.deepvariant_gene_list.txt\n",
      "File not found: /mmfs1/gscratch/stergachislab/yhhc/projects/Iso-seq_public/Cyclo_noncyclo_comparison/Analysis/9.2.24/5.Test_statistics/VCFs/output_dir_var_info/PS00456.deepvariant_gene_list.txt\n",
      "File not found: /mmfs1/gscratch/stergachislab/yhhc/projects/Iso-seq_public/Cyclo_noncyclo_comparison/Analysis/9.2.24/5.Test_statistics/VCFs/output_dir_var_info/PS00456.deepvariant_gene_list.txt\n",
      "File not found: /mmfs1/gscratch/stergachislab/yhhc/projects/Iso-seq_public/Cyclo_noncyclo_comparison/Analysis/9.2.24/5.Test_statistics/VCFs/output_dir_var_info/PS00482.deepvariant_gene_list.txt\n",
      "File not found: /mmfs1/gscratch/stergachislab/yhhc/projects/Iso-seq_public/Cyclo_noncyclo_comparison/Analysis/9.2.24/5.Test_statistics/VCFs/output_dir_var_info/PS00482.deepvariant_gene_list.txt\n",
      "File not found: /mmfs1/gscratch/stergachislab/yhhc/projects/Iso-seq_public/Cyclo_noncyclo_comparison/Analysis/9.2.24/5.Test_statistics/VCFs/output_dir_var_info/nan.deepvariant_gene_list.txt\n",
      "File not found: /mmfs1/gscratch/stergachislab/yhhc/projects/Iso-seq_public/Cyclo_noncyclo_comparison/Analysis/9.2.24/5.Test_statistics/VCFs/output_dir_var_info/nan.deepvariant_gene_list.txt\n",
      "File not found: /mmfs1/gscratch/stergachislab/yhhc/projects/Iso-seq_public/Cyclo_noncyclo_comparison/Analysis/9.2.24/5.Test_statistics/VCFs/output_dir_var_info/PS00465.deepvariant_gene_list.txt\n",
      "File not found: /mmfs1/gscratch/stergachislab/yhhc/projects/Iso-seq_public/Cyclo_noncyclo_comparison/Analysis/9.2.24/5.Test_statistics/VCFs/output_dir_var_info/PS00465.deepvariant_gene_list.txt\n",
      "File not found: /mmfs1/gscratch/stergachislab/yhhc/projects/Iso-seq_public/Cyclo_noncyclo_comparison/Analysis/9.2.24/5.Test_statistics/VCFs/output_dir_var_info/nan.deepvariant_gene_list.txt\n",
      "File not found: /mmfs1/gscratch/stergachislab/yhhc/projects/Iso-seq_public/Cyclo_noncyclo_comparison/Analysis/9.2.24/5.Test_statistics/VCFs/output_dir_var_info/nan.deepvariant_gene_list.txt\n",
      "File not found: /mmfs1/gscratch/stergachislab/yhhc/projects/Iso-seq_public/Cyclo_noncyclo_comparison/Analysis/9.2.24/5.Test_statistics/VCFs/output_dir_var_info/nan.deepvariant_gene_list.txt\n",
      "File not found: /mmfs1/gscratch/stergachislab/yhhc/projects/Iso-seq_public/Cyclo_noncyclo_comparison/Analysis/9.2.24/5.Test_statistics/VCFs/output_dir_var_info/nan.deepvariant_gene_list.txt\n",
      "File not found: /mmfs1/gscratch/stergachislab/yhhc/projects/Iso-seq_public/Cyclo_noncyclo_comparison/Analysis/9.2.24/5.Test_statistics/VCFs/output_dir_var_info/PS00459.deepvariant_gene_list.txt\n",
      "File not found: /mmfs1/gscratch/stergachislab/yhhc/projects/Iso-seq_public/Cyclo_noncyclo_comparison/Analysis/9.2.24/5.Test_statistics/VCFs/output_dir_var_info/PS00459.deepvariant_gene_list.txt\n",
      "File not found: /mmfs1/gscratch/stergachislab/yhhc/projects/Iso-seq_public/Cyclo_noncyclo_comparison/Analysis/9.2.24/5.Test_statistics/VCFs/output_dir_var_info/nan.deepvariant_gene_list.txt\n",
      "File not found: /mmfs1/gscratch/stergachislab/yhhc/projects/Iso-seq_public/Cyclo_noncyclo_comparison/Analysis/9.2.24/5.Test_statistics/VCFs/output_dir_var_info/nan.deepvariant_gene_list.txt\n",
      "File not found: /mmfs1/gscratch/stergachislab/yhhc/projects/Iso-seq_public/Cyclo_noncyclo_comparison/Analysis/9.2.24/5.Test_statistics/VCFs/output_dir_var_info/PS00468.deepvariant_gene_list.txt\n",
      "File not found: /mmfs1/gscratch/stergachislab/yhhc/projects/Iso-seq_public/Cyclo_noncyclo_comparison/Analysis/9.2.24/5.Test_statistics/VCFs/output_dir_var_info/PS00468.deepvariant_gene_list.txt\n"
     ]
    }
   ],
   "source": [
    "\n",
    "# Add Sample name to the name of the gene_list.txt file. \n",
    "# /mmfs1/gscratch/stergachislab/yhhc/projects/Iso-seq_public/Cyclo_noncyclo_comparison/Analysis/9.2.24/Inputs/Sample_names_and_bam_locations.tsv\n",
    "# I have a file named /mmfs1/gscratch/stergachislab/yhhc/projects/Iso-seq_public/Cyclo_noncyclo_comparison/Analysis/9.2.24/Inputs/Sample_names_and_bam_locations.tsv. In the \"sample\" column\n",
    "# it contains the PSid. In the id column, it contains the sample name. I want to use this file to rename the gene_list.txt files. The\n",
    "# gene_list.txt file names are structured as {PSid}.deepvariant_gene_list.txt. I want to rename the file so that their names are\n",
    "# {sample name}.{PSid}.deepvariant_gene_list.txt\n",
    "\n",
    "# Read the TSV file into a pandas DataFrame\n",
    "sample_data = pd.read_csv(tsv_file, sep='\\t')\n",
    "\n",
    "# Iterate over each row in the TSV to map PSid to sample name\n",
    "for idx, row in sample_data.iterrows():\n",
    "    psid = row['fiberseq_ps']   # Assuming 'fiberseq_ps' column contains the PSid\n",
    "    sample_name = row['id']  # Assuming 'id' column contains the sample name\n",
    "    \n",
    "    # Current file name based on PSid\n",
    "    current_file = os.path.join(vcf_directory, f'{psid}.deepvariant_gene_list.txt')\n",
    "    \n",
    "    # New file name based on sample name and PSid\n",
    "    new_file = os.path.join(vcf_directory, f'{sample_name}.{psid}.deepvariant_gene_list.txt')\n",
    "    \n",
    "    # Rename the file if it exists\n",
    "    if os.path.exists(current_file):\n",
    "        os.rename(current_file, new_file)\n",
    "        print(f'Renamed: {current_file} -> {new_file}')\n",
    "    else:\n",
    "        print(f'File not found: {current_file}')\n",
    "        \n",
    "\n"
   ]
  },
  {
   "cell_type": "code",
   "execution_count": 3,
   "id": "c7677d14-109f-4b61-bfae-03aabba6c248",
   "metadata": {},
   "outputs": [],
   "source": [
    "# Loop through each row in the combined DataFrame\n",
    "\n",
    "# Function to find the file based on sample_name\n",
    "def find_gene_list_file(sample_name, vcf_directory):\n",
    "    for filename in os.listdir(vcf_directory):\n",
    "        if filename.startswith(f'{sample_name}.') and filename.endswith('.deepvariant_gene_list.txt'):\n",
    "            return os.path.join(vcf_directory, filename)\n",
    "    return None\n",
    "\n"
   ]
  },
  {
   "cell_type": "code",
   "execution_count": 4,
   "id": "02cb97ec-7cd0-4048-9370-42a2faed3566",
   "metadata": {},
   "outputs": [
    {
     "name": "stderr",
     "output_type": "stream",
     "text": [
      "/tmp/ipykernel_59449/3578972477.py:20: FutureWarning: Setting an item of incompatible dtype is deprecated and will raise an error in a future version of pandas. Value '[chr22_32479222_G/A, missense_variant, 21.2, 0.0004789], [chr22_32479222_G/A, intron_variant,NMD_transcript_variant, 21.2, 0.0004789], [chr22_32479222_G/A, 3_prime_UTR_variant,NMD_transcript_variant, 21.2, 0.0004789], [chr22_32479222_G/A, non_coding_transcript_exon_variant, 21.2, 0.0004789]' has dtype incompatible with bool, please explicitly cast to a compatible dtype first.\n",
      "  combined_df_gene.at[idx, 'Genetic_var_found'] = variants  # Store the variant information\n"
     ]
    }
   ],
   "source": [
    "# Loop through each row in the combined DataFrame\n",
    "for idx, row in combined_df_gene.iterrows():\n",
    "    sample_name = row['Sample']\n",
    "    associated_gene = row['associated_gene']\n",
    "    \n",
    "    # Find the gene list file based on sample_name\n",
    "    gene_list_file = find_gene_list_file(sample_name, vcf_directory)\n",
    "    \n",
    "    # Check if the file was found and exists\n",
    "    if gene_list_file and os.path.exists(gene_list_file):\n",
    "        # Read the gene list file\n",
    "        with open(gene_list_file, 'r') as f:\n",
    "            gene_list = f.read().splitlines()\n",
    "        \n",
    "        # Check if the associated gene is in the gene list\n",
    "        for line in gene_list:\n",
    "            gene, variants = line.split(\"\\t\")  # Split gene and variant list by tab\n",
    "            if gene == associated_gene:\n",
    "                # If the gene matches, append the variant list to the 'Genetic_var_found' column\n",
    "                combined_df_gene.at[idx, 'Genetic_var_found'] = variants  # Store the variant information\n",
    "\n",
    "# Filter the DataFrame where rank is in the top 100 for any of the z-score percentiles and Genetic_var_found is not empty\n",
    "filtered_df_gene = combined_df_gene[\n",
    "    ((combined_df_gene['rank_top_95_percentile'] < 100) | \n",
    "     (combined_df_gene['rank_top_98_percentile'] < 100) |\n",
    "     (combined_df_gene['rank_top_99_percentile'] < 100) | \n",
    "     (combined_df_gene['rank_top_99_5_percentile'] < 100) | \n",
    "     (combined_df_gene['rank_top_99_9_percentile'] < 100)) &\n",
    "    (combined_df_gene['Genetic_var_found'].notnull())\n",
    "]\n",
    "\n",
    "# Save the filtered DataFrame to a new CSV\n",
    "filtered_df_gene.to_csv('filtered_genes_with_variants_with_var_info.csv', index=False)"
   ]
  },
  {
   "cell_type": "code",
   "execution_count": 5,
   "id": "08e4892b-b797-4bed-a655-96dd7cf955a5",
   "metadata": {},
   "outputs": [
    {
     "name": "stderr",
     "output_type": "stream",
     "text": [
      "/tmp/ipykernel_59449/2882893986.py:20: FutureWarning: Setting an item of incompatible dtype is deprecated and will raise an error in a future version of pandas. Value '[chr12_57156150_G/A, synonymous_variant, 17.23, 0.0001942], [chr12_57156150_G/A, downstream_gene_variant, 17.23, 0.0001942]' has dtype incompatible with bool, please explicitly cast to a compatible dtype first.\n",
      "  combined_df_isoform.at[idx, 'Genetic_var_found'] = variants  # Store the variant information\n"
     ]
    }
   ],
   "source": [
    "# Loop through each row in the combined DataFrame for isoforms\n",
    "for idx, row in combined_df_isoform.iterrows():\n",
    "    sample_name = row['Sample']\n",
    "    associated_gene = row['associated_gene']\n",
    "    \n",
    "    # Find the gene list file based on sample_name\n",
    "    gene_list_file = find_gene_list_file(sample_name, vcf_directory)\n",
    "    \n",
    "    # Check if the file was found and exists\n",
    "    if gene_list_file and os.path.exists(gene_list_file):\n",
    "        # Read the gene list file\n",
    "        with open(gene_list_file, 'r') as f:\n",
    "            gene_list = f.read().splitlines()\n",
    "        \n",
    "        # Check if the associated gene is in the gene list and get the variants\n",
    "        for line in gene_list:\n",
    "            gene, variants = line.split(\"\\t\")  # Split gene and variant list by tab\n",
    "            if gene == associated_gene:\n",
    "                # Append the variant information to the 'Genetic_var_found' column\n",
    "                combined_df_isoform.at[idx, 'Genetic_var_found'] = variants  # Store the variant information\n",
    "\n",
    "# Filter the DataFrame where rank_top_95_percentile < 100 and Genetic_var_found is not empty\n",
    "filtered_df_isoform = combined_df_isoform[\n",
    "    (combined_df_isoform['rank_top_95_percentile'] < 100) &\n",
    "    (combined_df_isoform['Genetic_var_found'].notnull())\n",
    "]\n",
    "\n",
    "# Save the filtered DataFrame to a new CSV\n",
    "filtered_df_isoform.to_csv('filtered_isoforms_with_variants_with_var_info.csv', index=False)"
   ]
  }
 ],
 "metadata": {
  "kernelspec": {
   "display_name": "Python 3 (ipykernel)",
   "language": "python",
   "name": "python3"
  },
  "language_info": {
   "codemirror_mode": {
    "name": "ipython",
    "version": 3
   },
   "file_extension": ".py",
   "mimetype": "text/x-python",
   "name": "python",
   "nbconvert_exporter": "python",
   "pygments_lexer": "ipython3",
   "version": "3.12.4"
  }
 },
 "nbformat": 4,
 "nbformat_minor": 5
}
